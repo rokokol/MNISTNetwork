{
 "cells": [
  {
   "cell_type": "code",
   "outputs": [],
   "source": [
    "%matplotlib inline\n",
    "import matplotlib.pyplot as plt\n",
    "import numpy as np\n",
    "from PIL import Image \n",
    "import os, sys\n",
    "from random import shuffle\n",
    "\n",
    "\n",
    "IMG_TYPES_COUNT = 10\n",
    "HIDDEN_LAYER = 40\n",
    "IMG_SIZE = 28 * 28\n",
    "MAX_VALUE = 255\n",
    "plt.style.use('ggplot')\n",
    "digits = []\n",
    "for i in range(IMG_TYPES_COUNT): # loading images\n",
    "    folder_path = f'train/{i}/'\n",
    "    for dir_ in os.listdir(folder_path): # first 100 digits of all img type\n",
    "        path = os.path.join(folder_path, dir_)\n",
    "        with Image.open(path) as img:\n",
    "            img_arr = np.asarray(img).reshape((IMG_SIZE)) / MAX_VALUE # making each pixel as value in (0, 1)\n",
    "            digits.append((img_arr, i))\n",
    "            \n",
    "shuffle(digits) #for random input\n",
    "numbers = np.array([i for i, _ in digits])\n",
    "labels = [i for _, i in digits]\n",
    "one_hot_labels = np.zeros((len(labels),10))\n",
    "for i,l in enumerate(labels):\n",
    "    one_hot_labels[i][l] = 1\n",
    "labels = one_hot_labels"
   ],
   "metadata": {
    "collapsed": true,
    "ExecuteTime": {
     "end_time": "2024-03-03T11:08:20.656927Z",
     "start_time": "2024-03-03T11:08:05.068862Z"
    }
   },
   "id": "initial_id",
   "execution_count": 155
  },
  {
   "cell_type": "code",
   "outputs": [
    {
     "name": "stderr",
     "output_type": "stream",
     "text": [
      "2024-03-04 21:10:18.590607: E external/local_xla/xla/stream_executor/cuda/cuda_dnn.cc:9261] Unable to register cuDNN factory: Attempting to register factory for plugin cuDNN when one has already been registered\n",
      "2024-03-04 21:10:18.590943: E external/local_xla/xla/stream_executor/cuda/cuda_fft.cc:607] Unable to register cuFFT factory: Attempting to register factory for plugin cuFFT when one has already been registered\n",
      "2024-03-04 21:10:18.717884: E external/local_xla/xla/stream_executor/cuda/cuda_blas.cc:1515] Unable to register cuBLAS factory: Attempting to register factory for plugin cuBLAS when one has already been registered\n",
      "2024-03-04 21:10:21.647483: W tensorflow/compiler/tf2tensorrt/utils/py_utils.cc:38] TF-TRT Warning: Could not find TensorRT\n"
     ]
    }
   ],
   "source": [
    "%matplotlib inline\n",
    "import matplotlib.pyplot as plt\n",
    "import numpy as np\n",
    "from PIL import Image\n",
    "import os, sys\n",
    "\n",
    "from keras.datasets import mnist\n",
    "(x_train, y_train), (x_test, y_test) = mnist.load_data()\n",
    "\n",
    "images, labels = (x_train[0:1000].reshape(1000,28*28) / 255, y_train[0:1000])\n",
    "\n",
    "one_hot_labels = np.zeros((len(labels),10))\n",
    "for i,l in enumerate(labels):\n",
    "    one_hot_labels[i][l] = 1\n",
    "labels = one_hot_labels\n",
    "\n",
    "test_images = x_test.reshape(len(x_test),28*28) / 255\n",
    "test_labels = np.zeros((len(y_test),10))\n",
    "for i,l in enumerate(y_test):\n",
    "    test_labels[i][l] = 1"
   ],
   "metadata": {
    "collapsed": false,
    "ExecuteTime": {
     "end_time": "2024-03-04T18:10:26.675815Z",
     "start_time": "2024-03-04T18:10:14.876884Z"
    }
   },
   "id": "6c8e83989fcc1d91",
   "execution_count": 1
  },
  {
   "cell_type": "code",
   "outputs": [],
   "source": [
    "relu = lambda x: (x > 0) * x\n",
    "relu2deriv = lambda x: x > 0\n",
    "\n",
    "tanh = lambda x: np.tanh(x)\n",
    "tanh2deriv = lambda x: 1 - x ** 2\n",
    "\n",
    "def softmax(x):\n",
    "    temp = np.exp(x)\n",
    "    return temp / np.sum(temp, axis=1, keepdims=True)\n",
    "\n",
    "def get_image_section(layer, row_from, row_to, col_from, col_to):\n",
    "    section = layer[:, row_from:row_to, col_from:col_to]\n",
    "    return section.reshape(-1, 1, row_to - row_from, col_to - col_from)\n",
    "\n",
    "def get_pred_from_test(path='test.png'): # I use Aseprite for drawing\n",
    "    with Image.open(path) as img:\n",
    "        img.load()\n",
    "        img_arr = np.asarray(img).reshape(1, 28, 28) / 255\n",
    "\n",
    "    layer_0 = img_arr\n",
    "    layer_0 = layer_0.reshape(-1, 28, 28)\n",
    "\n",
    "    sects = []\n",
    "    for row_start in range(layer_0.shape[1] - kernel_rows):\n",
    "        for col_start in range(layer_0.shape[2] - kernel_cols):\n",
    "            sect = get_image_section(layer_0,\n",
    "                                     row_start,\n",
    "                                     row_start + kernel_rows,\n",
    "                                     col_start,\n",
    "                                     col_start + kernel_cols)\n",
    "\n",
    "            sects.append(sect)\n",
    "\n",
    "    expanded_input = np.concatenate(sects, axis=1)\n",
    "    es = expanded_input.shape\n",
    "    flattened_input = expanded_input.reshape(es[0] * es[1], -1)\n",
    "\n",
    "    kernel_output = flattened_input.dot(kernels)\n",
    "    layer_1 = tanh(kernel_output.reshape(es[0],-1))\n",
    "    dropout_mask = np.random.randint(2,size=layer_1.shape)\n",
    "    layer_1 *= dropout_mask * 2\n",
    "    layer_2 = softmax(np.dot(layer_1,weights_1_2))\n",
    "    \n",
    "    print(layer_2.argmax())\n",
    "    return img, layer_2"
   ],
   "metadata": {
    "collapsed": false,
    "ExecuteTime": {
     "end_time": "2024-03-04T20:01:30.033663Z",
     "start_time": "2024-03-04T20:01:30.004768Z"
    }
   },
   "id": "f4bd6b896e9348c1",
   "execution_count": 38
  },
  {
   "cell_type": "code",
   "outputs": [
    {
     "name": "stdout",
     "output_type": "stream",
     "text": [
      "I:299 Train-Err:0.141 Train-Acc:0.798"
     ]
    }
   ],
   "source": [
    "batch_size = 128\n",
    "alpha, iterations = (2, 300)\n",
    "pixels_per_image, num_labels = (784, 10)\n",
    "\n",
    "input_rows = 28\n",
    "input_cols = 28\n",
    "\n",
    "kernel_rows = 2\n",
    "kernel_cols = 2\n",
    "num_kernels = 20\n",
    "\n",
    "hidden_size = ((input_rows - kernel_rows) *\n",
    "               (input_cols - kernel_cols)) * num_kernels\n",
    "\n",
    "kernels = 0.02 * np.random.random((kernel_cols * kernel_rows, num_kernels)) - 0.01\n",
    "\n",
    "weights_1_2 = 0.2 * np.random.random((hidden_size, num_labels)) - 0.1\n",
    "\n",
    "for j in range(iterations):\n",
    "    error, correct_cnt = (0.0, 0)\n",
    "    for i in range(int(len(images) / batch_size)):\n",
    "        batch_start, batch_end = ((i * batch_size),((i+1)*batch_size))\n",
    "        layer_0 = images[batch_start:batch_end]\n",
    "        layer_0 = layer_0.reshape(-1, 28, 28)\n",
    "        \n",
    "        sects = []\n",
    "        for row_start in range(layer_0.shape[1] - kernel_rows):\n",
    "            for col_start in range(layer_0.shape[2] - kernel_cols):\n",
    "                sect = get_image_section(layer_0,\n",
    "                                         row_start,\n",
    "                                         row_start + kernel_rows,\n",
    "                                         col_start,\n",
    "                                         col_start + kernel_cols)\n",
    "                \n",
    "                sects.append(sect) \n",
    "\n",
    "        expanded_input = np.concatenate(sects, axis=1)\n",
    "        es = expanded_input.shape\n",
    "        flattened_input = expanded_input.reshape(es[0] * es[1], -1)\n",
    "\n",
    "        kernel_output = flattened_input.dot(kernels)\n",
    "        layer_1 = tanh(kernel_output.reshape(es[0],-1))\n",
    "        dropout_mask = np.random.randint(2,size=layer_1.shape)\n",
    "        layer_1 *= dropout_mask * 2\n",
    "        layer_2 = softmax(np.dot(layer_1,weights_1_2))\n",
    "\n",
    "        error += np.sum((labels[batch_start:batch_end] - layer_2) ** 2)\n",
    "        for k in range(batch_size):\n",
    "            labelset = labels[batch_start+k:batch_start+k+1]\n",
    "            _inc = int(np.argmax(layer_2[k:k+1]) ==\n",
    "                       np.argmax(labelset))\n",
    "            correct_cnt += _inc\n",
    "\n",
    "        layer_2_delta = (labels[batch_start:batch_end]-layer_2) / (batch_size * layer_2.shape[0])\n",
    "        layer_1_delta = layer_2_delta.dot(weights_1_2.T) * tanh2deriv(layer_1)\n",
    "        layer_1_delta *= dropout_mask\n",
    "\n",
    "        weights_1_2 += alpha * layer_1.T.dot(layer_2_delta)\n",
    "        l1d_reshape = layer_1_delta.reshape(kernel_output.shape)\n",
    "        k_update = flattened_input.T.dot(l1d_reshape)\n",
    "        kernels -= alpha * k_update\n",
    "\n",
    "    if j % 1 == 0:\n",
    "        sys.stdout.write(\"\\r\" + \\\n",
    "                         \"I:\" + str(j) + \\\n",
    "                         \" Train-Err:\" + str(error/ float(len(images)))[0:5] + \\\n",
    "                         \" Train-Acc:\" + str(correct_cnt/ float(len(images))))"
   ],
   "metadata": {
    "collapsed": false,
    "ExecuteTime": {
     "end_time": "2024-03-04T20:13:26.369615Z",
     "start_time": "2024-03-04T20:05:56.570872Z"
    }
   },
   "id": "afb6e201bfcd9075",
   "execution_count": 65
  },
  {
   "cell_type": "code",
   "outputs": [
    {
     "data": {
      "text/plain": "(100, 10)"
     },
     "execution_count": 11,
     "metadata": {},
     "output_type": "execute_result"
    }
   ],
   "source": [
    "layer_2.shape"
   ],
   "metadata": {
    "collapsed": false,
    "ExecuteTime": {
     "end_time": "2024-03-04T18:12:38.230665Z",
     "start_time": "2024-03-04T18:12:38.224396Z"
    }
   },
   "id": "441bbb31804b4cbe",
   "execution_count": 11
  },
  {
   "cell_type": "code",
   "outputs": [
    {
     "name": "stdout",
     "output_type": "stream",
     "text": [
      "7\n"
     ]
    },
    {
     "data": {
      "text/plain": "<PIL.PngImagePlugin.PngImageFile image mode=L size=28x28>",
      "image/png": "[encoded data removed]",
      "image/jpeg": "[encoded data removed]"
     },
     "execution_count": 77,
     "metadata": {},
     "output_type": "execute_result"
    }
   ],
   "source": [
    "get_pred_from_test()[0]"
   ],
   "metadata": {
    "collapsed": false,
    "ExecuteTime": {
     "end_time": "2024-03-04T20:15:31.042846Z",
     "start_time": "2024-03-04T20:15:31.021432Z"
    }
   },
   "id": "62e319910f2509a",
   "execution_count": 77
  },
  {
   "cell_type": "code",
   "outputs": [
    {
     "name": "stdout",
     "output_type": "stream",
     "text": [
      "\n",
      "I:0 Test-Acc:0.0 Train-Acc:0.48\n",
      "I:10 Test-Acc:0.0 Train-Acc:0.88\n",
      "I:20 Test-Acc:0.0 Train-Acc:0.919\n",
      "I:30 Test-Acc:0.0 Train-Acc:0.951\n",
      "I:40 Test-Acc:0.0 Train-Acc:0.944\n",
      "I:50 Test-Acc:0.0 Train-Acc:0.957\n",
      "I:60 Test-Acc:0.0 Train-Acc:0.948\n",
      "I:70 Test-Acc:0.0 Train-Acc:0.952\n",
      "I:80 Test-Acc:0.0 Train-Acc:0.941\n",
      "I:90 Test-Acc:0.0 Train-Acc:0.948"
     ]
    },
    {
     "ename": "KeyboardInterrupt",
     "evalue": "",
     "output_type": "error",
     "traceback": [
      "\u001B[0;31m---------------------------------------------------------------------------\u001B[0m",
      "\u001B[0;31mKeyboardInterrupt\u001B[0m                         Traceback (most recent call last)",
      "Cell \u001B[0;32mIn[79], line 48\u001B[0m\n\u001B[1;32m     45\u001B[0m layer_2 \u001B[38;5;241m=\u001B[39m softmax(np\u001B[38;5;241m.\u001B[39mdot(layer_1,weights_1_2))\n\u001B[1;32m     47\u001B[0m \u001B[38;5;28;01mfor\u001B[39;00m k \u001B[38;5;129;01min\u001B[39;00m \u001B[38;5;28mrange\u001B[39m(batch_size):\n\u001B[0;32m---> 48\u001B[0m     correct_cnt \u001B[38;5;241m+\u001B[39m\u001B[38;5;241m=\u001B[39m \u001B[38;5;28mint\u001B[39m(\u001B[43mnp\u001B[49m\u001B[38;5;241;43m.\u001B[39;49m\u001B[43margmax\u001B[49m\u001B[43m(\u001B[49m\u001B[43mlayer_2\u001B[49m\u001B[43m[\u001B[49m\u001B[43mk\u001B[49m\u001B[43m:\u001B[49m\u001B[43mk\u001B[49m\u001B[38;5;241;43m+\u001B[39;49m\u001B[38;5;241;43m1\u001B[39;49m\u001B[43m]\u001B[49m\u001B[43m)\u001B[49m \u001B[38;5;241m==\u001B[39m np\u001B[38;5;241m.\u001B[39margmax(labels[batch_start\u001B[38;5;241m+\u001B[39mk:batch_start\u001B[38;5;241m+\u001B[39mk\u001B[38;5;241m+\u001B[39m\u001B[38;5;241m1\u001B[39m]))\n\u001B[1;32m     50\u001B[0m layer_2_delta \u001B[38;5;241m=\u001B[39m (labels[batch_start:batch_end]\u001B[38;5;241m-\u001B[39mlayer_2) \u001B[38;5;241m/\u001B[39m (batch_size \u001B[38;5;241m*\u001B[39m layer_2\u001B[38;5;241m.\u001B[39mshape[\u001B[38;5;241m1\u001B[39m])\n\u001B[1;32m     51\u001B[0m layer_1_delta \u001B[38;5;241m=\u001B[39m layer_2_delta\u001B[38;5;241m.\u001B[39mdot(weights_1_2\u001B[38;5;241m.\u001B[39mT) \u001B[38;5;241m*\u001B[39m tanh2deriv(layer_1)\n",
      "File \u001B[0;32m~/miniforge3/lib/python3.10/site-packages/numpy/core/fromnumeric.py:1229\u001B[0m, in \u001B[0;36margmax\u001B[0;34m(a, axis, out, keepdims)\u001B[0m\n\u001B[1;32m   1142\u001B[0m \u001B[38;5;250m\u001B[39m\u001B[38;5;124;03m\"\"\"\u001B[39;00m\n\u001B[1;32m   1143\u001B[0m \u001B[38;5;124;03mReturns the indices of the maximum values along an axis.\u001B[39;00m\n\u001B[1;32m   1144\u001B[0m \n\u001B[0;32m   (...)\u001B[0m\n\u001B[1;32m   1226\u001B[0m \u001B[38;5;124;03m(2, 1, 4)\u001B[39;00m\n\u001B[1;32m   1227\u001B[0m \u001B[38;5;124;03m\"\"\"\u001B[39;00m\n\u001B[1;32m   1228\u001B[0m kwds \u001B[38;5;241m=\u001B[39m {\u001B[38;5;124m'\u001B[39m\u001B[38;5;124mkeepdims\u001B[39m\u001B[38;5;124m'\u001B[39m: keepdims} \u001B[38;5;28;01mif\u001B[39;00m keepdims \u001B[38;5;129;01mis\u001B[39;00m \u001B[38;5;129;01mnot\u001B[39;00m np\u001B[38;5;241m.\u001B[39m_NoValue \u001B[38;5;28;01melse\u001B[39;00m {}\n\u001B[0;32m-> 1229\u001B[0m \u001B[38;5;28;01mreturn\u001B[39;00m \u001B[43m_wrapfunc\u001B[49m\u001B[43m(\u001B[49m\u001B[43ma\u001B[49m\u001B[43m,\u001B[49m\u001B[43m \u001B[49m\u001B[38;5;124;43m'\u001B[39;49m\u001B[38;5;124;43margmax\u001B[39;49m\u001B[38;5;124;43m'\u001B[39;49m\u001B[43m,\u001B[49m\u001B[43m \u001B[49m\u001B[43maxis\u001B[49m\u001B[38;5;241;43m=\u001B[39;49m\u001B[43maxis\u001B[49m\u001B[43m,\u001B[49m\u001B[43m \u001B[49m\u001B[43mout\u001B[49m\u001B[38;5;241;43m=\u001B[39;49m\u001B[43mout\u001B[49m\u001B[43m,\u001B[49m\u001B[43m \u001B[49m\u001B[38;5;241;43m*\u001B[39;49m\u001B[38;5;241;43m*\u001B[39;49m\u001B[43mkwds\u001B[49m\u001B[43m)\u001B[49m\n",
      "\u001B[0;31mKeyboardInterrupt\u001B[0m: "
     ]
    }
   ],
   "source": [
    "|import numpy as np, sys\n",
    "np.random.seed(1)\n",
    "\n",
    "from keras.datasets import mnist\n",
    "\n",
    "(x_train, y_train), (x_test, y_test) = mnist.load_data()\n",
    "\n",
    "images, labels = (x_train[0:1000].reshape(1000,28*28) / 255, y_train[0:1000])\n",
    "\n",
    "one_hot_labels = np.zeros((len(labels),10))\n",
    "for i,l in enumerate(labels):\n",
    "    one_hot_labels[i][l] = 1\n",
    "labels = one_hot_labels\n",
    "\n",
    "test_images = x_test.reshape(len(x_test),28*28) / 255\n",
    "test_labels = np.zeros((len(y_test),10))\n",
    "for i,l in enumerate(y_test):\n",
    "    test_labels[i][l] = 1\n",
    "\n",
    "def tanh(x):\n",
    "    return np.tanh(x)\n",
    "\n",
    "def tanh2deriv(output):\n",
    "    return 1 - (output ** 2)\n",
    "\n",
    "def softmax(x):\n",
    "    temp = np.exp(x)\n",
    "    return temp / np.sum(temp, axis=1, keepdims=True)\n",
    "\n",
    "alpha, iterations, hidden_size = (2, 300, 100)\n",
    "pixels_per_image, num_labels = (784, 10)\n",
    "batch_size = 100\n",
    "\n",
    "weights_0_1 = 0.02*np.random.random((pixels_per_image,hidden_size))-0.01\n",
    "weights_1_2 = 0.2*np.random.random((hidden_size,num_labels)) - 0.1\n",
    "\n",
    "for j in range(iterations):\n",
    "    correct_cnt = 0\n",
    "    for i in range(int(len(images) / batch_size)):\n",
    "        batch_start, batch_end=((i * batch_size),((i+1)*batch_size))\n",
    "        layer_0 = images[batch_start:batch_end]\n",
    "        layer_1 = tanh(np.dot(layer_0,weights_0_1))\n",
    "        dropout_mask = np.random.randint(2,size=layer_1.shape)\n",
    "        layer_1 *= dropout_mask * 2\n",
    "        layer_2 = softmax(np.dot(layer_1,weights_1_2))\n",
    "\n",
    "        for k in range(batch_size):\n",
    "            correct_cnt += int(np.argmax(layer_2[k:k+1]) == np.argmax(labels[batch_start+k:batch_start+k+1]))\n",
    "\n",
    "        layer_2_delta = (labels[batch_start:batch_end]-layer_2) / (batch_size * layer_2.shape[1])\n",
    "        layer_1_delta = layer_2_delta.dot(weights_1_2.T) * tanh2deriv(layer_1)\n",
    "        layer_1_delta *= dropout_mask\n",
    "\n",
    "        weights_1_2 += alpha * layer_1.T.dot(layer_2_delta)\n",
    "        weights_0_1 += alpha * layer_0.T.dot(layer_1_delta)\n",
    "\n",
    "    test_correct_cnt = 0\n",
    "    if(j % 10 == 0):\n",
    "        sys.stdout.write(\"\\n\"+ \\\n",
    "                         \"I:\" + str(j) + \\\n",
    "                         \" Test-Acc:\"+str(test_correct_cnt/float(len(test_images)))+ \\\n",
    "                         \" Train-Acc:\" + str(correct_cnt/float(len(images))))\n",
    "        "
   ],
   "metadata": {
    "collapsed": false,
    "ExecuteTime": {
     "end_time": "2024-03-03T16:40:47.696076Z",
     "start_time": "2024-03-03T16:40:37.069768Z"
    }
   },
   "id": "77a18f14c5f3f002",
   "execution_count": 79
  },
  {
   "cell_type": "code",
   "outputs": [],
   "source": [],
   "metadata": {
    "collapsed": false
   },
   "id": "6e6b30d170cc0790"
  }
 ],
 "metadata": {
  "kernelspec": {
   "display_name": "Python 3",
   "language": "python",
   "name": "python3"
  },
  "language_info": {
   "codemirror_mode": {
    "name": "ipython",
    "version": 2
   },
   "file_extension": ".py",
   "mimetype": "text/x-python",
   "name": "python",
   "nbconvert_exporter": "python",
   "pygments_lexer": "ipython2",
   "version": "2.7.6"
  }
 },
 "nbformat": 4,
 "nbformat_minor": 5
}
